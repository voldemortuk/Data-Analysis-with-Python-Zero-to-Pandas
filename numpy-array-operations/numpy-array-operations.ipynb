{
 "cells": [
  {
   "cell_type": "code",
   "execution_count": 1,
   "metadata": {},
   "outputs": [],
   "source": [
    "# Jovian Commit Essentials\n",
    "# Please retain and execute this cell without modifying the contents for `jovian.commit` to work\n",
    "!pip install jovian --upgrade -q\n",
    "import jovian\n",
    "jovian.utils.colab.set_colab_file_id('11a0MRbqupqwWXH3u4Nj0QV7YJnsX3Psc')"
   ]
  },
  {
   "cell_type": "markdown",
   "metadata": {},
   "source": [
    "> ### **Assignment 2 - Numpy Array Operations** \n",
    ">\n",
    "> This assignment is part of the course [\"Data Analysis with Python: Zero to Pandas\"](http://zerotopandas.com). The objective of this assignment is to develop a solid understanding of Numpy array operations. In this assignment you will:\n",
    "> \n",
    "> 1. Pick 5 interesting Numpy array functions by going through the documentation: https://numpy.org/doc/stable/reference/routines.html \n",
    "> 2. Run and modify this Jupyter notebook to illustrate their usage (some explanation and 3 examples for each function). Use your imagination to come up with interesting and unique examples.\n",
    "> 3. Upload this notebook to your Jovian profile using `jovian.commit` and make a submission here: https://jovian.ml/learn/data-analysis-with-python-zero-to-pandas/assignment/assignment-2-numpy-array-operations\n",
    "> 4. (Optional) Share your notebook online (on Twitter, LinkedIn, Facebook) and on the community forum thread: https://jovian.ml/forum/t/assignment-2-numpy-array-operations-share-your-work/10575 . \n",
    "> 5. (Optional) Check out the notebooks [shared by other participants](https://jovian.ml/forum/t/assignment-2-numpy-array-operations-share-your-work/10575) and give feedback & appreciation.\n",
    ">\n",
    "> The recommended way to run this notebook is to click the \"Run\" button at the top of this page, and select \"Run on Binder\". This will run the notebook on mybinder.org, a free online service for running Jupyter notebooks.\n",
    ">\n",
    "> Try to give your notebook a catchy title & subtitle e.g. \"All about Numpy array operations\", \"5 Numpy functions you didn't know you needed\", \"A beginner's guide to broadcasting in Numpy\", \"Interesting ways to create Numpy arrays\", \"Trigonometic functions in Numpy\", \"How to use Python for Linear Algebra\" etc.\n",
    ">\n",
    "> **NOTE**: Remove this block of explanation text before submitting or sharing your notebook online - to make it more presentable.\n",
    "\n",
    "\n",
    "# Numpy Array\n",
    "\n",
    "\n",
    "### A short introduction about Numpy functions. \n",
    "\n",
    "\n",
    "\n",
    "- np.array\n",
    "    \n",
    "  numpy.array(object, dtype=None, *, copy=True, order='K', subok=False, ndmin=0)\n",
    "    \n",
    "  A numpy array is a grid of values, all of the same type, and is indexed by a tuple of nonnegative integers. \n",
    "    \n",
    "    \n",
    "- np.where\n",
    "    \n",
    "    This can be used to search through  an array for a certain value, and return the indexes that get a match.\n",
    "\n",
    "\n",
    "\n",
    "\n",
    "\n",
    "- np.linspace\n",
    "\n",
    "    numpy.linspace(start, stop, num=50, endpoint=True, retstep=False, dtype=None, axis=0)\n",
    "    \n",
    "    This function returns evenly spaced numbers over a specified interval defined by the first two arguments of the     \n",
    "    function (start and stop — required arguments)\n",
    "    \n",
    "\n",
    "\n",
    "\n",
    "- np.dot\n",
    "\n",
    "     numpy.dot(vector_a, vector_b, out = None) \n",
    "     \n",
    "     Thisreturns the dot product of vectors a and b. It can handle 2D arrays but considering them as matrix and          \n",
    "     will perform matrix multiplication.    \n",
    "\n",
    "\n",
    "\n",
    "\n",
    "- np.argmax\n",
    "   \n",
    "   numpy.argmax(a, axis=None, out=None) \n",
    "   \n",
    "   This function returns the indices of the maximum values along an axis."
   ]
  },
  {
   "cell_type": "code",
   "execution_count": 1,
   "metadata": {},
   "outputs": [],
   "source": [
    "!pip install jovian --upgrade -q"
   ]
  },
  {
   "cell_type": "code",
   "execution_count": 2,
   "metadata": {},
   "outputs": [],
   "source": [
    "import jovian"
   ]
  },
  {
   "cell_type": "code",
   "execution_count": 5,
   "metadata": {},
   "outputs": [
    {
     "data": {
      "application/javascript": [
       "window.require && require([\"base/js/namespace\"],function(Jupyter){Jupyter.notebook.save_checkpoint()})"
      ],
      "text/plain": [
       "<IPython.core.display.Javascript object>"
      ]
     },
     "metadata": {},
     "output_type": "display_data"
    },
    {
     "name": "stdout",
     "output_type": "stream",
     "text": [
      "[jovian] Attempting to save notebook..\u001b[0m\n",
      "[jovian] Updating notebook \"utkarsh02dec/numpy-array-operations\" on https://jovian.ml/\u001b[0m\n",
      "[jovian] Uploading notebook..\u001b[0m\n",
      "[jovian] Capturing environment..\u001b[0m\n",
      "[jovian] Committed successfully! https://jovian.ml/utkarsh02dec/numpy-array-operations\u001b[0m\n"
     ]
    },
    {
     "data": {
      "text/plain": [
       "'https://jovian.ml/utkarsh02dec/numpy-array-operations'"
      ]
     },
     "execution_count": 5,
     "metadata": {},
     "output_type": "execute_result"
    }
   ],
   "source": [
    "jovian.commit(project='numpy-array-operations')"
   ]
  },
  {
   "cell_type": "markdown",
   "metadata": {},
   "source": [
    "Let's begin by importing Numpy and listing out the functions covered in this notebook."
   ]
  },
  {
   "cell_type": "code",
   "execution_count": 4,
   "metadata": {},
   "outputs": [],
   "source": [
    "import numpy as np"
   ]
  },
  {
   "cell_type": "code",
   "execution_count": 6,
   "metadata": {},
   "outputs": [],
   "source": [
    "# List of functions explained \n",
    "function1 = np.array  \n",
    "function2 = np.where\n",
    "function3 = np.linspace\n",
    "function4 = np.sort\n",
    "function5 = np.dot"
   ]
  },
  {
   "cell_type": "markdown",
   "metadata": {},
   "source": [
    "## Function 1 - np.array\n",
    "\n",
    "\n",
    "Add some explanation about the function in your own words"
   ]
  },
  {
   "cell_type": "code",
   "execution_count": 7,
   "metadata": {},
   "outputs": [
    {
     "name": "stdout",
     "output_type": "stream",
     "text": [
      "The minimum marks scored  is 66.5 \n",
      "The highest marks scored  is 87.2 \n",
      "The percentage of marks scored is 75.52%\n"
     ]
    }
   ],
   "source": [
    "#Example 1 \n",
    "aww = np.array([68.5 ,70.2 , 87.2 , 66.5,84.2,76.5])  \n",
    "cqq = np.array(['Chemistry','History','Geography','Critical Thinking','Biology','Statistics']) \n",
    "\n",
    "\n",
    "print('The minimum marks scored  is {} '.format(aww.min()))\n",
    "print('The highest marks scored  is {} '.format(aww.max()))\n",
    "q1 = round(((aww.sum()/600)*100),2)\n",
    "print('The percentage of marks scored is {}%'.format(q1))"
   ]
  },
  {
   "cell_type": "markdown",
   "metadata": {},
   "source": [
    "The marks of a student in each subject(total of 6 sub) of his first sem exam. The example helps find the max marks ,min marks and the total marks and percnetage obtained."
   ]
  },
  {
   "cell_type": "code",
   "execution_count": 8,
   "metadata": {},
   "outputs": [
    {
     "name": "stdout",
     "output_type": "stream",
     "text": [
      "The highest number of goal scored is 45 \n"
     ]
    }
   ],
   "source": [
    "# Example 2 - working\n",
    "a = np.array(['Cristiano Ronaldo','Lionel Messi','Robert Lewandowski ',' Serge Gnabry','Neymar']) # the name of the of top 5 football players\n",
    "b = np.array(['Juventus','Barcelona','Bayern Munich','Bayern Munich','Paris Saint-Germain'])   #their teams \n",
    "c = np.array([50 , 51, 55, 55, 53])   #the number of matches played\n",
    "d = np.array([42 , 40 , 45 , 28 , 35 ])   #the number of goals they have scored\n",
    "e = np.array([3, 4 , 2 , 4 , 5 ]) #the no. of assists \n",
    "z = d.max()\n",
    "result = np.where(d == z)\n",
    "print('The highest number of goal scored is {} '.format(z))"
   ]
  },
  {
   "cell_type": "markdown",
   "metadata": {},
   "source": [
    "A list of array showing the name of the of top 5 football players and the number of goals they has scored , the number of matches played , the no. of assists"
   ]
  },
  {
   "cell_type": "code",
   "execution_count": 9,
   "metadata": {},
   "outputs": [
    {
     "ename": "TypeError",
     "evalue": "array() takes from 1 to 2 positional arguments but 6 were given",
     "output_type": "error",
     "traceback": [
      "\u001b[0;31m---------------------------------------------------------------------------\u001b[0m",
      "\u001b[0;31mTypeError\u001b[0m                                 Traceback (most recent call last)",
      "\u001b[0;32m<ipython-input-9-c7c50b0ddb0e>\u001b[0m in \u001b[0;36m<module>\u001b[0;34m\u001b[0m\n\u001b[1;32m      1\u001b[0m \u001b[0;31m# Example 3 - breaking (to illustrate when it breaks)\u001b[0m\u001b[0;34m\u001b[0m\u001b[0;34m\u001b[0m\u001b[0;34m\u001b[0m\u001b[0m\n\u001b[0;32m----> 2\u001b[0;31m \u001b[0maww\u001b[0m \u001b[0;34m=\u001b[0m \u001b[0mnp\u001b[0m\u001b[0;34m.\u001b[0m\u001b[0marray\u001b[0m\u001b[0;34m(\u001b[0m\u001b[0;36m68.5\u001b[0m \u001b[0;34m,\u001b[0m\u001b[0;36m70.2\u001b[0m \u001b[0;34m,\u001b[0m \u001b[0;36m87.2\u001b[0m \u001b[0;34m,\u001b[0m \u001b[0;36m66.5\u001b[0m\u001b[0;34m,\u001b[0m\u001b[0;36m84.2\u001b[0m\u001b[0;34m,\u001b[0m\u001b[0;36m76.5\u001b[0m\u001b[0;34m)\u001b[0m\u001b[0;34m\u001b[0m\u001b[0;34m\u001b[0m\u001b[0m\n\u001b[0m\u001b[1;32m      3\u001b[0m \u001b[0mcqq\u001b[0m \u001b[0;34m=\u001b[0m \u001b[0mnp\u001b[0m\u001b[0;34m.\u001b[0m\u001b[0marray\u001b[0m\u001b[0;34m(\u001b[0m\u001b[0;34m[\u001b[0m\u001b[0;34m'Chemistry'\u001b[0m\u001b[0;34m,\u001b[0m\u001b[0;34m'History'\u001b[0m\u001b[0;34m,\u001b[0m\u001b[0;34m'Geography'\u001b[0m\u001b[0;34m,\u001b[0m\u001b[0;34m'Critical Thinking'\u001b[0m\u001b[0;34m,\u001b[0m\u001b[0;34m'Biology'\u001b[0m\u001b[0;34m,\u001b[0m\u001b[0;34m'Statistics'\u001b[0m\u001b[0;34m]\u001b[0m\u001b[0;34m)\u001b[0m\u001b[0;34m\u001b[0m\u001b[0;34m\u001b[0m\u001b[0m\n\u001b[1;32m      4\u001b[0m \u001b[0;34m\u001b[0m\u001b[0m\n",
      "\u001b[0;31mTypeError\u001b[0m: array() takes from 1 to 2 positional arguments but 6 were given"
     ]
    }
   ],
   "source": [
    "# Example 3 - breaking (to illustrate when it breaks)\n",
    "aww = np.array(68.5 ,70.2 , 87.2 , 66.5,84.2,76.5)  \n",
    "cqq = np.array(['Chemistry','History','Geography','Critical Thinking','Biology','Statistics']) \n",
    "\n"
   ]
  },
  {
   "cell_type": "markdown",
   "metadata": {},
   "source": [
    "This example shows the breaking of np.array due to error in input the data.\n",
    "While inputting the data , it should be done as np.array([ 8 , 8 , 9 ])"
   ]
  },
  {
   "cell_type": "markdown",
   "metadata": {},
   "source": [
    "Some closing comments about when to use this function."
   ]
  },
  {
   "cell_type": "code",
   "execution_count": 10,
   "metadata": {},
   "outputs": [
    {
     "data": {
      "application/javascript": [
       "window.require && require([\"base/js/namespace\"],function(Jupyter){Jupyter.notebook.save_checkpoint()})"
      ],
      "text/plain": [
       "<IPython.core.display.Javascript object>"
      ]
     },
     "metadata": {},
     "output_type": "display_data"
    },
    {
     "name": "stdout",
     "output_type": "stream",
     "text": [
      "[jovian] Attempting to save notebook..\u001b[0m\n",
      "[jovian] Updating notebook \"utkarsh02dec/numpy-array-operations\" on https://jovian.ml/\u001b[0m\n",
      "[jovian] Uploading notebook..\u001b[0m\n",
      "[jovian] Capturing environment..\u001b[0m\n",
      "[jovian] Committed successfully! https://jovian.ml/utkarsh02dec/numpy-array-operations\u001b[0m\n"
     ]
    },
    {
     "data": {
      "text/plain": [
       "'https://jovian.ml/utkarsh02dec/numpy-array-operations'"
      ]
     },
     "execution_count": 10,
     "metadata": {},
     "output_type": "execute_result"
    }
   ],
   "source": [
    "jovian.commit()"
   ]
  },
  {
   "cell_type": "markdown",
   "metadata": {},
   "source": [
    "## Function 2 - np.where\n"
   ]
  },
  {
   "cell_type": "code",
   "execution_count": 11,
   "metadata": {},
   "outputs": [
    {
     "name": "stdout",
     "output_type": "stream",
     "text": [
      "The highest marks scored  is in the subject ['Geography'] \n"
     ]
    }
   ],
   "source": [
    "# Example 1 - working\n",
    "aww = np.array([68.5 ,70.2 , 87.2 , 66.5,84.2,76.5])  \n",
    "cqq = np.array(['Chemistry','History','Geography','Critical Thinking','Biology','Statistics']) \n",
    "\n",
    "\n",
    "z1 = aww.max()\n",
    "result1 = np.where(aww== z1)\n",
    "\n",
    "print('The highest marks scored  is in the subject {} '.format(cqq[result1]))"
   ]
  },
  {
   "cell_type": "markdown",
   "metadata": {},
   "source": [
    "This uses the example highest marks and using that finds the name of the person who obtained it through np.where"
   ]
  },
  {
   "cell_type": "code",
   "execution_count": 13,
   "metadata": {},
   "outputs": [
    {
     "name": "stdout",
     "output_type": "stream",
     "text": [
      "The most  number of runs scored by ['MS Dhoni']\n"
     ]
    }
   ],
   "source": [
    "# Example 2 - working\n",
    "a = np.array(['MS Dhoni','Suresh Raina','Aron Finch ',' ab de villiers ','Andrew Strauss']) # the name of the of top 5 football players\n",
    "b = np.array(['India','India','Australia','South Africa','England'])   #their teams \n",
    "c = np.array([50 , 51, 55, 55, 53])   #the number of matches played\n",
    "d = np.array([49000 , 40111 , 45222 , 48331 , 35444 ])   #the number of runs \n",
    "z = d.max()\n",
    "result = np.where(d == z)\n",
    "print('The most  number of runs scored by {}'.format(a[result]))"
   ]
  },
  {
   "cell_type": "markdown",
   "metadata": {},
   "source": [
    "This uses the example highest runs scored using max() function and using that finds the name of the player who scored the most runs using np.where"
   ]
  },
  {
   "cell_type": "code",
   "execution_count": 14,
   "metadata": {},
   "outputs": [
    {
     "ename": "SyntaxError",
     "evalue": "invalid syntax (<ipython-input-14-39d207124103>, line 3)",
     "output_type": "error",
     "traceback": [
      "\u001b[0;36m  File \u001b[0;32m\"<ipython-input-14-39d207124103>\"\u001b[0;36m, line \u001b[0;32m3\u001b[0m\n\u001b[0;31m    print('The most  number of runs scored by {}'.format(a[result]))\u001b[0m\n\u001b[0m    ^\u001b[0m\n\u001b[0;31mSyntaxError\u001b[0m\u001b[0;31m:\u001b[0m invalid syntax\n"
     ]
    }
   ],
   "source": [
    "# Example 3 - breaking (to illustrate when it breaks)\n",
    "result = np.where(d == z\n",
    "print('The most  number of runs scored by {}'.format(a[result]))"
   ]
  },
  {
   "cell_type": "markdown",
   "metadata": {},
   "source": [
    "Here the brackets are not used properly thus causing error\n"
   ]
  },
  {
   "cell_type": "markdown",
   "metadata": {},
   "source": [
    "This function is quite powerful and useful while searching for an element in a numpy array\n"
   ]
  },
  {
   "cell_type": "code",
   "execution_count": 15,
   "metadata": {},
   "outputs": [
    {
     "data": {
      "application/javascript": [
       "window.require && require([\"base/js/namespace\"],function(Jupyter){Jupyter.notebook.save_checkpoint()})"
      ],
      "text/plain": [
       "<IPython.core.display.Javascript object>"
      ]
     },
     "metadata": {},
     "output_type": "display_data"
    },
    {
     "name": "stdout",
     "output_type": "stream",
     "text": [
      "[jovian] Attempting to save notebook..\u001b[0m\n",
      "[jovian] Updating notebook \"utkarsh02dec/numpy-array-operations\" on https://jovian.ml/\u001b[0m\n",
      "[jovian] Uploading notebook..\u001b[0m\n",
      "[jovian] Capturing environment..\u001b[0m\n",
      "[jovian] Committed successfully! https://jovian.ml/utkarsh02dec/numpy-array-operations\u001b[0m\n"
     ]
    },
    {
     "data": {
      "text/plain": [
       "'https://jovian.ml/utkarsh02dec/numpy-array-operations'"
      ]
     },
     "execution_count": 15,
     "metadata": {},
     "output_type": "execute_result"
    }
   ],
   "source": [
    "jovian.commit()"
   ]
  },
  {
   "cell_type": "markdown",
   "metadata": {},
   "source": [
    "## Function 3 - np.linspace"
   ]
  },
  {
   "cell_type": "code",
   "execution_count": 16,
   "metadata": {},
   "outputs": [
    {
     "data": {
      "image/png": "[encoded data removed]",
      "text/plain": [
       "<Figure size 792x792 with 1 Axes>"
      ]
     },
     "metadata": {
      "needs_background": "light"
     },
     "output_type": "display_data"
    }
   ],
   "source": [
    "# Example 1 - working\n",
    "x = np.linspace(0,60,100)\n",
    "\n",
    "functions = [np.sin(x)]\n",
    "titles = ['Sine function']\n",
    "\n",
    "import matplotlib.pyplot as plt\n",
    "\n",
    "# Plot the functions\n",
    "plt.figure(figsize=(11,11))\n",
    "\n",
    "for index,function in enumerate(functions):\n",
    "    plt.subplot(2, 2, index+1)\n",
    "    plt.plot(x,function)\n",
    "    plt.title(titles[index],fontsize=16)"
   ]
  },
  {
   "cell_type": "markdown",
   "metadata": {},
   "source": [
    "This example depicst X-axis linspace function 100  points from 0 to 60 and this is used to input evenly spaced number , finding sin of them.    \n",
    "\n"
   ]
  },
  {
   "cell_type": "code",
   "execution_count": 18,
   "metadata": {},
   "outputs": [
    {
     "data": {
      "image/png": "[encoded data removed]",
      "text/plain": [
       "<Figure size 792x792 with 1 Axes>"
      ]
     },
     "metadata": {
      "needs_background": "light"
     },
     "output_type": "display_data"
    }
   ],
   "source": [
    "# Example 2 - working\n",
    "x = np.linspace(4,1000,90)\n",
    "\n",
    "functions = [np.log(x)]\n",
    "titles = ['Logarithmic function']\n",
    "    \n",
    "\n",
    "# Plot the functions\n",
    "plt.figure(figsize=(11,11))\n",
    "\n",
    "for index,function in enumerate(functions):\n",
    "    plt.subplot(2, 2, index+1)\n",
    "    plt.plot(x,function)\n",
    "    plt.title(titles[index],fontsize=16)"
   ]
  },
  {
   "cell_type": "markdown",
   "metadata": {},
   "source": [
    "This example depicst X-axis linspace function 90 points from 4 to 10000 and this is used to input evenly spaced number , finding log of them.\n",
    "\n"
   ]
  },
  {
   "cell_type": "code",
   "execution_count": 19,
   "metadata": {},
   "outputs": [
    {
     "name": "stderr",
     "output_type": "stream",
     "text": [
      "<ipython-input-19-23fa8e5d75f8>:4: RuntimeWarning: divide by zero encountered in log\n",
      "  functions = [np.log(x)]\n"
     ]
    },
    {
     "data": {
      "image/png": "[encoded data removed]",
      "text/plain": [
       "<Figure size 792x792 with 1 Axes>"
      ]
     },
     "metadata": {
      "needs_background": "light"
     },
     "output_type": "display_data"
    }
   ],
   "source": [
    "# Example 3 - breaking (to illustrate when it breaks)\n",
    "x = np.linspace(0,1000,90)\n",
    "\n",
    "functions = [np.log(x)]\n",
    "titles = ['Logarithmic function']\n",
    "    \n",
    "\n",
    "# Plot the functions\n",
    "plt.figure(figsize=(11,11))\n",
    "\n",
    "for index,function in enumerate(functions):\n",
    "    plt.subplot(2, 2, index+1)\n",
    "    plt.plot(x,function)\n",
    "    plt.title(titles[index],fontsize=16)"
   ]
  },
  {
   "cell_type": "markdown",
   "metadata": {},
   "source": [
    "Here we cannot put starting as 0 for a log function thus showing an error we can put values greater than 0"
   ]
  },
  {
   "cell_type": "markdown",
   "metadata": {},
   "source": [
    "Some closing comments about when to use this function."
   ]
  },
  {
   "cell_type": "code",
   "execution_count": 20,
   "metadata": {},
   "outputs": [
    {
     "data": {
      "application/javascript": [
       "window.require && require([\"base/js/namespace\"],function(Jupyter){Jupyter.notebook.save_checkpoint()})"
      ],
      "text/plain": [
       "<IPython.core.display.Javascript object>"
      ]
     },
     "metadata": {},
     "output_type": "display_data"
    },
    {
     "name": "stdout",
     "output_type": "stream",
     "text": [
      "[jovian] Attempting to save notebook..\u001b[0m\n",
      "[jovian] Updating notebook \"utkarsh02dec/numpy-array-operations\" on https://jovian.ml/\u001b[0m\n",
      "[jovian] Uploading notebook..\u001b[0m\n",
      "[jovian] Capturing environment..\u001b[0m\n",
      "[jovian] Committed successfully! https://jovian.ml/utkarsh02dec/numpy-array-operations\u001b[0m\n"
     ]
    },
    {
     "data": {
      "text/plain": [
       "'https://jovian.ml/utkarsh02dec/numpy-array-operations'"
      ]
     },
     "execution_count": 20,
     "metadata": {},
     "output_type": "execute_result"
    }
   ],
   "source": [
    "jovian.commit()"
   ]
  },
  {
   "cell_type": "markdown",
   "metadata": {},
   "source": [
    "## Function 4 - np.dot"
   ]
  },
  {
   "cell_type": "code",
   "execution_count": 21,
   "metadata": {},
   "outputs": [
    {
     "name": "stdout",
     "output_type": "stream",
     "text": [
      "The amount of Force needed by the wall to exert in order to stand the incoming Force should be more than  7600001966.4 N \n"
     ]
    }
   ],
   "source": [
    "# Example 1 - working\n",
    "Name_of_the_Object = np.array(['Book' , 'Football','Large Hadron Collider(CERN)','Aardvark ' ])\n",
    "\n",
    "q =  38000000\n",
    "\n",
    "Mass = np.array([0.45,3.1,q,65]) # in kg \n",
    "\n",
    "Acceleration = ([2,5,200,30]) # m/s^2\n",
    "\n",
    "Force =(np.dot(Mass, Acceleration))\n",
    "\n",
    "print('The amount of Force needed by the wall to exert in order to stand the incoming Force should be more than  {} N '.format(Force))"
   ]
  },
  {
   "cell_type": "markdown",
   "metadata": {},
   "source": [
    "Force = Mass * Acceleration Suppose a giant wall is hit all at once by four objects of different masses moving at different velocity which is changing causing an acceleration in the body."
   ]
  },
  {
   "cell_type": "code",
   "execution_count": 23,
   "metadata": {},
   "outputs": [
    {
     "name": "stdout",
     "output_type": "stream",
     "text": [
      "The amount of work done by Raj is  72738 J \n"
     ]
    }
   ],
   "source": [
    "# Example 2 - working\n",
    "Name_of_the_jobs_done = np.array(['Mowing' , 'Running','Playing Football'])\n",
    "\n",
    "Force = np.array([33,15,24])  # It is in newton \n",
    "\n",
    "displacement = ([22,4444,223])   # It is in m \n",
    "\n",
    "Work =(np.dot(Force, displacement)) #It is in Joule\n",
    "\n",
    "print('The amount of work done by Raj is  {} J '.format(Work))"
   ]
  },
  {
   "cell_type": "markdown",
   "metadata": {},
   "source": [
    "When a force f is applied to body and causes a displacement ds in the body. The displacement ds need not be parallel to the direction of the force. The work done W by the force f in causing a displacement ds in the body is given by,\n",
    "W = f . ds , is the dot product of two vectors f and ds.\n",
    "Raj has been work all day and using np.dot he calculates the total amount of work he has done throughout the day.\n"
   ]
  },
  {
   "cell_type": "code",
   "execution_count": 28,
   "metadata": {},
   "outputs": [
    {
     "ename": "ValueError",
     "evalue": "shapes (6,) and (5,) not aligned: 6 (dim 0) != 5 (dim 0)",
     "output_type": "error",
     "traceback": [
      "\u001b[0;31m---------------------------------------------------------------------------\u001b[0m",
      "\u001b[0;31mValueError\u001b[0m                                Traceback (most recent call last)",
      "\u001b[0;32m<ipython-input-28-8894d2908f13>\u001b[0m in \u001b[0;36m<module>\u001b[0;34m\u001b[0m\n\u001b[1;32m      5\u001b[0m \u001b[0meach_day\u001b[0m \u001b[0;34m=\u001b[0m \u001b[0mnp\u001b[0m\u001b[0;34m.\u001b[0m\u001b[0marray\u001b[0m\u001b[0;34m(\u001b[0m\u001b[0;34m[\u001b[0m\u001b[0;36m1\u001b[0m\u001b[0;34m,\u001b[0m\u001b[0;36m1\u001b[0m\u001b[0;34m,\u001b[0m\u001b[0;36m1\u001b[0m\u001b[0;34m,\u001b[0m\u001b[0;36m1\u001b[0m\u001b[0;34m,\u001b[0m\u001b[0;36m1\u001b[0m\u001b[0;34m]\u001b[0m\u001b[0;34m)\u001b[0m\u001b[0;34m\u001b[0m\u001b[0;34m\u001b[0m\u001b[0m\n\u001b[1;32m      6\u001b[0m \u001b[0;34m\u001b[0m\u001b[0m\n\u001b[0;32m----> 7\u001b[0;31m \u001b[0mWork\u001b[0m \u001b[0;34m=\u001b[0m\u001b[0mnp\u001b[0m\u001b[0;34m.\u001b[0m\u001b[0mdot\u001b[0m\u001b[0;34m(\u001b[0m\u001b[0mDays\u001b[0m\u001b[0;34m,\u001b[0m\u001b[0meach_day\u001b[0m\u001b[0;34m)\u001b[0m\u001b[0;34m\u001b[0m\u001b[0;34m\u001b[0m\u001b[0m\n\u001b[0m\u001b[1;32m      8\u001b[0m \u001b[0mprint\u001b[0m\u001b[0;34m(\u001b[0m\u001b[0;34m'The number of hours used {} '\u001b[0m\u001b[0;34m.\u001b[0m\u001b[0mformat\u001b[0m\u001b[0;34m(\u001b[0m\u001b[0mWork\u001b[0m\u001b[0;34m)\u001b[0m\u001b[0;34m)\u001b[0m\u001b[0;34m\u001b[0m\u001b[0;34m\u001b[0m\u001b[0m\n",
      "\u001b[0;32m<__array_function__ internals>\u001b[0m in \u001b[0;36mdot\u001b[0;34m(*args, **kwargs)\u001b[0m\n",
      "\u001b[0;31mValueError\u001b[0m: shapes (6,) and (5,) not aligned: 6 (dim 0) != 5 (dim 0)"
     ]
    }
   ],
   "source": [
    "# Example 3 - breaking (to illustrate when it breaks)\n",
    "Name_of_the_hours_of_laptop_used = np.array(['Monday' , 'Tuesday','Wednesday','Thursday','Friday'])\n",
    "\n",
    "Days = np.array([10,15,13,12,12,16])  \n",
    "each_day = np.array([1,1,1,1,1])    \n",
    "\n",
    "Work =np.dot(Days,each_day) \n",
    "print('The number of hours used {} '.format(Work))"
   ]
  },
  {
   "cell_type": "markdown",
   "metadata": {},
   "source": [
    "Here the shapes of both the arrays dont match so the dot is not possible"
   ]
  },
  {
   "cell_type": "markdown",
   "metadata": {},
   "source": [
    "This function helps find dot product quite easily"
   ]
  },
  {
   "cell_type": "code",
   "execution_count": 29,
   "metadata": {},
   "outputs": [
    {
     "data": {
      "application/javascript": [
       "window.require && require([\"base/js/namespace\"],function(Jupyter){Jupyter.notebook.save_checkpoint()})"
      ],
      "text/plain": [
       "<IPython.core.display.Javascript object>"
      ]
     },
     "metadata": {},
     "output_type": "display_data"
    },
    {
     "name": "stdout",
     "output_type": "stream",
     "text": [
      "[jovian] Attempting to save notebook..\u001b[0m\n",
      "[jovian] Updating notebook \"utkarsh02dec/numpy-array-operations\" on https://jovian.ml/\u001b[0m\n",
      "[jovian] Uploading notebook..\u001b[0m\n",
      "[jovian] Capturing environment..\u001b[0m\n",
      "[jovian] Committed successfully! https://jovian.ml/utkarsh02dec/numpy-array-operations\u001b[0m\n"
     ]
    },
    {
     "data": {
      "text/plain": [
       "'https://jovian.ml/utkarsh02dec/numpy-array-operations'"
      ]
     },
     "execution_count": 29,
     "metadata": {},
     "output_type": "execute_result"
    }
   ],
   "source": [
    "jovian.commit()"
   ]
  },
  {
   "cell_type": "markdown",
   "metadata": {},
   "source": [
    "## Function 5 - np.argmax"
   ]
  },
  {
   "cell_type": "code",
   "execution_count": 30,
   "metadata": {},
   "outputs": [
    {
     "name": "stdout",
     "output_type": "stream",
     "text": [
      "1\n",
      "2\n",
      "0\n"
     ]
    }
   ],
   "source": [
    "# Example 1 - working\n",
    "import pandas as pd\n",
    "\n",
    "\n",
    "Q_table = pd.DataFrame({'a0':[2,5,12],'a1':[18,2,4],'a2':[3,9,2]},index=['s0','s1','s2'])\n",
    "\n",
    "policy = np.argmax(Q_table.values, axis=1)\n",
    "\n",
    "for i in policy : \n",
    "  print(i)\n"
   ]
  },
  {
   "cell_type": "markdown",
   "metadata": {},
   "source": [
    "The Q-table is an action-value function estimation that contains the expected return for each state-action pair."
   ]
  },
  {
   "cell_type": "code",
   "execution_count": 37,
   "metadata": {},
   "outputs": [
    {
     "name": "stdout",
     "output_type": "stream",
     "text": [
      "\n",
      "Max element :  11\n",
      "\n",
      "Indices of Max element :  [[0 0 0 2]]\n",
      "\n",
      "Indices of Max element :  [[2]\n",
      " [2]\n",
      " [3]]\n"
     ]
    }
   ],
   "source": [
    "# Example 2 - working\n",
    "array =np.matrix([[1222,2223,12121,199],[222,115,633,66],[734,823,119,91219]])\n",
    "print(\"\\nMax element : \", np.argmax(array)) \n",
    "\n",
    "print(\"\\nIndices of Max element : \", np.argmax(array, axis = 0)) \n",
    "\n",
    "print(\"\\nIndices of Max element : \", np.argmax(array, axis = 1)) "
   ]
  },
  {
   "cell_type": "markdown",
   "metadata": {},
   "source": [
    "This example illustrates finding the maximum element and their indices about each axis"
   ]
  },
  {
   "cell_type": "code",
   "execution_count": 38,
   "metadata": {},
   "outputs": [
    {
     "name": "stdout",
     "output_type": "stream",
     "text": [
      "[[ 0  1  2  3]\n",
      " [ 4  5  6  7]\n",
      " [ 8  9 10 11]]\n"
     ]
    },
    {
     "ename": "TypeError",
     "evalue": "_argmax_dispatcher() missing 1 required positional argument: 'a'",
     "output_type": "error",
     "traceback": [
      "\u001b[0;31m---------------------------------------------------------------------------\u001b[0m",
      "\u001b[0;31mTypeError\u001b[0m                                 Traceback (most recent call last)",
      "\u001b[0;32m<ipython-input-38-9cdef709cbd6>\u001b[0m in \u001b[0;36m<module>\u001b[0;34m\u001b[0m\n\u001b[1;32m      2\u001b[0m \u001b[0marr\u001b[0m \u001b[0;34m=\u001b[0m \u001b[0mnp\u001b[0m\u001b[0;34m.\u001b[0m\u001b[0marange\u001b[0m\u001b[0;34m(\u001b[0m\u001b[0;36m12\u001b[0m\u001b[0;34m)\u001b[0m\u001b[0;34m.\u001b[0m\u001b[0mreshape\u001b[0m\u001b[0;34m(\u001b[0m\u001b[0;36m3\u001b[0m\u001b[0;34m,\u001b[0m \u001b[0;36m4\u001b[0m\u001b[0;34m)\u001b[0m\u001b[0;34m\u001b[0m\u001b[0;34m\u001b[0m\u001b[0m\n\u001b[1;32m      3\u001b[0m \u001b[0mprint\u001b[0m\u001b[0;34m(\u001b[0m\u001b[0marr\u001b[0m\u001b[0;34m)\u001b[0m\u001b[0;34m\u001b[0m\u001b[0;34m\u001b[0m\u001b[0m\n\u001b[0;32m----> 4\u001b[0;31m \u001b[0mprint\u001b[0m\u001b[0;34m(\u001b[0m\u001b[0mnp\u001b[0m\u001b[0;34m.\u001b[0m\u001b[0margmax\u001b[0m\u001b[0;34m(\u001b[0m\u001b[0;34m)\u001b[0m\u001b[0;34m)\u001b[0m\u001b[0;34m\u001b[0m\u001b[0;34m\u001b[0m\u001b[0m\n\u001b[0m",
      "\u001b[0;32m<__array_function__ internals>\u001b[0m in \u001b[0;36margmax\u001b[0;34m(*args, **kwargs)\u001b[0m\n",
      "\u001b[0;31mTypeError\u001b[0m: _argmax_dispatcher() missing 1 required positional argument: 'a'"
     ]
    }
   ],
   "source": [
    "# Example 3 - breaking (to illustrate when it breaks)\n",
    "arr = np.arange(12).reshape(3, 4) \n",
    "print(arr)\n",
    "print(np.argmax())"
   ]
  },
  {
   "cell_type": "markdown",
   "metadata": {},
   "source": [
    "Here the argmax function is not specified with numpy array whose max number needs to be found "
   ]
  },
  {
   "cell_type": "markdown",
   "metadata": {},
   "source": [
    "This function can be used to find the max number within a particular axis"
   ]
  },
  {
   "cell_type": "code",
   "execution_count": null,
   "metadata": {},
   "outputs": [
    {
     "data": {
      "application/javascript": [
       "window.require && require([\"base/js/namespace\"],function(Jupyter){Jupyter.notebook.save_checkpoint()})"
      ],
      "text/plain": [
       "<IPython.core.display.Javascript object>"
      ]
     },
     "metadata": {},
     "output_type": "display_data"
    },
    {
     "name": "stdout",
     "output_type": "stream",
     "text": [
      "[jovian] Attempting to save notebook..\u001b[0m\n"
     ]
    }
   ],
   "source": [
    "jovian.commit()"
   ]
  },
  {
   "cell_type": "markdown",
   "metadata": {},
   "source": [
    "## Conclusion\n",
    "\n",
    "Summarize what was covered in this notebook, and where to go next"
   ]
  },
  {
   "cell_type": "markdown",
   "metadata": {},
   "source": [
    "## Reference Links\n",
    "Provide links to your references and other interesting articles about Numpy arrays:\n",
    "* Numpy official tutorial : https://numpy.org/doc/stable/user/quickstart.html\n",
    "* ..."
   ]
  },
  {
   "cell_type": "code",
   "execution_count": 30,
   "metadata": {},
   "outputs": [
    {
     "data": {
      "application/javascript": [
       "window.require && require([\"base/js/namespace\"],function(Jupyter){Jupyter.notebook.save_checkpoint()})"
      ],
      "text/plain": [
       "<IPython.core.display.Javascript object>"
      ]
     },
     "metadata": {},
     "output_type": "display_data"
    },
    {
     "name": "stdout",
     "output_type": "stream",
     "text": [
      "[jovian] Attempting to save notebook..\u001b[0m\n",
      "[jovian] Updating notebook \"aakashns/numpy-array-operations\" on https://jovian.ml/\u001b[0m\n",
      "[jovian] Uploading notebook..\u001b[0m\n",
      "[jovian] Capturing environment..\u001b[0m\n",
      "[jovian] Committed successfully! https://jovian.ml/aakashns/numpy-array-operations\u001b[0m\n"
     ]
    },
    {
     "data": {
      "text/plain": [
       "'https://jovian.ml/aakashns/numpy-array-operations'"
      ]
     },
     "execution_count": 30,
     "metadata": {},
     "output_type": "execute_result"
    }
   ],
   "source": [
    "jovian.commit()"
   ]
  },
  {
   "cell_type": "code",
   "execution_count": null,
   "metadata": {},
   "outputs": [],
   "source": []
  }
 ],
 "metadata": {
  "kernelspec": {
   "display_name": "Python 3",
   "language": "python",
   "name": "python3"
  },
  "language_info": {
   "codemirror_mode": {
    "name": "ipython",
    "version": 3
   },
   "file_extension": ".py",
   "mimetype": "text/x-python",
   "name": "python",
   "nbconvert_exporter": "python",
   "pygments_lexer": "ipython3",
   "version": "3.8.5"
  }
 },
 "nbformat": 4,
 "nbformat_minor": 4
}